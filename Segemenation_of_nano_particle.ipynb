{
 "cells": [
  {
   "attachments": {},
   "cell_type": "markdown",
   "id": "374f4b6e",
   "metadata": {},
   "source": [
    "## start up"
   ]
  },
  {
   "cell_type": "code",
   "execution_count": null,
   "id": "9a789e8c",
   "metadata": {},
   "outputs": [],
   "source": [
    "import numpy as np\n",
    "\n",
    "import matplotlib.pyplot as plt\n",
    "import matplotlib.patches as mpatches\n",
    "\n",
    "import skimage as sk\n",
    "\n",
    "from scipy import ndimage as ndi\n",
    "\n",
    "import os\n",
    "%matplotlib inline"
   ]
  },
  {
   "cell_type": "code",
   "execution_count": null,
   "id": "f58f40f7",
   "metadata": {},
   "outputs": [],
   "source": [
    "%load_ext autoreload\n",
    "%autoreload 2"
   ]
  },
  {
   "attachments": {},
   "cell_type": "markdown",
   "id": "2efc782e",
   "metadata": {},
   "source": [
    "## local files"
   ]
  },
  {
   "cell_type": "code",
   "execution_count": null,
   "id": "e3acb9e7",
   "metadata": {},
   "outputs": [],
   "source": [
    "from src import utils,boudingBox, nanoSegmentation, gui"
   ]
  },
  {
   "attachments": {},
   "cell_type": "markdown",
   "id": "4ba8e082",
   "metadata": {},
   "source": [
    "## DEMO"
   ]
  },
  {
   "cell_type": "code",
   "execution_count": null,
   "id": "45cef59e",
   "metadata": {},
   "outputs": [],
   "source": [
    "import dearpygui.dearpygui as dpg\n",
    "import dearpygui.demo as demo\n",
    "\n",
    "dpg.create_context()\n",
    "dpg.create_viewport(title='Custom Title', width=600, height=600)\n",
    "\n",
    "dpg.get_viewport_pos\n",
    "\n",
    "demo.show_demo()\n",
    "\n",
    "dpg.setup_dearpygui()\n",
    "dpg.show_viewport()\n",
    "dpg.start_dearpygui()\n",
    "dpg.destroy_context()"
   ]
  },
  {
   "cell_type": "code",
   "execution_count": null,
   "id": "5d42b799",
   "metadata": {},
   "outputs": [],
   "source": [
    "gui.display()"
   ]
  },
  {
   "cell_type": "code",
   "execution_count": null,
   "id": "04fa25fd",
   "metadata": {},
   "outputs": [],
   "source": [
    "import dearpygui.dearpygui as dpg\n",
    "\n",
    "dpg.create_context()\n",
    "\n",
    "def change_text(sender, app_data):\n",
    "    dpg.set_value(\"text item\", f\"Mouse Button ID: {app_data}\")\n",
    "\n",
    "def visible_call(sender, app_data):\n",
    "    print(\"I'm visible\")\n",
    "\n",
    "with dpg.item_handler_registry(tag=\"widget handler\") as handler:\n",
    "    dpg.add_item_clicked_handler(callback=change_text)\n",
    "    dpg.add_item_visible_handler(callback=visible_call)\n",
    "\n",
    "with dpg.window(width=500, height=300):\n",
    "    dpg.add_text(\"Click me with any mouse button\", tag=\"text item\")\n",
    "    dpg.add_text(\"Close window with arrow to change visible state printing to console\", tag=\"text item 2\")\n",
    "\n",
    "# bind item handler registry to item\n",
    "dpg.bind_item_handler_registry(\"text item\", \"widget handler\")\n",
    "dpg.bind_item_handler_registry(\"text item 2\", \"widget handler\")\n",
    "\n",
    "dpg.create_viewport(title='Custom Title', width=800, height=600)\n",
    "dpg.setup_dearpygui()\n",
    "dpg.show_viewport()\n",
    "dpg.start_dearpygui()\n",
    "dpg.destroy_context()"
   ]
  },
  {
   "attachments": {},
   "cell_type": "markdown",
   "id": "516ce59d",
   "metadata": {},
   "source": [
    "## second pass"
   ]
  },
  {
   "cell_type": "code",
   "execution_count": null,
   "id": "4c73a850",
   "metadata": {},
   "outputs": [],
   "source": [
    "fileName = \"nanostars Au -10kX -0004\"\n",
    "im2 = utils.openFile(\"img/nanostars Au -10kX -0004.jpg\",5)\n",
    "im2processed = nanoSegmentation.preProcessing(im2,5,1,True)\n",
    "imBinary2 = nanoSegmentation.thresholdOtsu(im2processed,True)\n",
    "labels2, markers2 = nanoSegmentation.distanceBasedWatershed(imBinary2,True)\n",
    "bboxArray = boudingBox.getBoundingBox(255 - im2, labels2,100, True)\n",
    "boudingBox.exctractParticle(255 - im2, bboxArray,fileName, save=True, display=False)"
   ]
  },
  {
   "cell_type": "code",
   "execution_count": null,
   "id": "e5538079",
   "metadata": {},
   "outputs": [],
   "source": [
    "#second pass\n",
    "\n",
    "im2 = utils.openFile(f\"out/{fileName}/output-7.png\",1.0)\n",
    "im2processed = nanoSegmentation.preProcessing(im2,3,0)\n",
    "imBinary2 = nanoSegmentation.thresholdOtsu(im2processed)\n",
    "labels2, markers2 = nanoSegmentation.distanceBasedWatershed(imBinary2,True)\n",
    "_ = boudingBox.getBoundingBox(255 - im2, labels2,250, True)"
   ]
  },
  {
   "cell_type": "code",
   "execution_count": null,
   "id": "00bab4d7",
   "metadata": {},
   "outputs": [],
   "source": [
    "#second pass\n",
    "\n",
    "fig, ax = plt.subplots(8,8,figsize=(20,20))\n",
    "\n",
    "for i, ax in enumerate(ax.flat):\n",
    "    im = utils.openFile(f\"out/{fileName}/output-{i}.png\",1.0)\n",
    "    imProcessed = nanoSegmentation.preProcessing(im,7,1)\n",
    "    imBinary = nanoSegmentation.thresholdOtsu(imProcessed)\n",
    "\n",
    "    rec = sk.morphology.reconstruction(im * imBinary, im, method='dilation')\n",
    "\n",
    "    labels, markers = nanoSegmentation.distanceBasedWatershed(nanoSegmentation.thresholdOtsu(np.int_(rec)))\n",
    "\n",
    "    labelsColorOverlay = sk.color.label2rgb(labels)\n",
    "    ax.imshow(255-im, cmap=\"gray\")\n",
    "    ax.imshow(labelsColorOverlay, alpha=0.5)\n",
    "    ax.set_title(f\"Output {i}\")\n",
    "    ax.set_axis_off()\n",
    "\n",
    "plt.show()"
   ]
  },
  {
   "cell_type": "code",
   "execution_count": null,
   "id": "0b0568ad",
   "metadata": {},
   "outputs": [],
   "source": [
    "i = 7\n",
    "im = utils.openFile(f\"out/{fileName}/output-{i}.png\",1.0)\n",
    "\n",
    "imProcessed = nanoSegmentation.preProcessing(im,7,1)\n",
    "imBinary = nanoSegmentation.thresholdOtsu(imProcessed)\n",
    "\n",
    "rec = sk.morphology.reconstruction(im * imBinary, im, method='dilation')\n",
    "\n",
    "labels, markers = nanoSegmentation.distanceBasedWatershed(nanoSegmentation.thresholdOtsu(np.int_(rec)),True)"
   ]
  }
 ],
 "metadata": {
  "kernelspec": {
   "display_name": "base",
   "language": "python",
   "name": "python3"
  },
  "language_info": {
   "codemirror_mode": {
    "name": "ipython",
    "version": 3
   },
   "file_extension": ".py",
   "mimetype": "text/x-python",
   "name": "python",
   "nbconvert_exporter": "python",
   "pygments_lexer": "ipython3",
   "version": "3.9.12 (main, Apr  4 2022, 05:22:27) [MSC v.1916 64 bit (AMD64)]"
  },
  "vscode": {
   "interpreter": {
    "hash": "16f5b46f222e2a3e8d4adbf7141cae37b71ed37616e60735fa5d1164a1bc3ada"
   }
  }
 },
 "nbformat": 4,
 "nbformat_minor": 5
}
